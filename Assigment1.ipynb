{
 "cells": [
  {
   "cell_type": "code",
   "execution_count": 54,
   "id": "29ed30b8-e753-4a06-9156-0424862bc3e1",
   "metadata": {},
   "outputs": [],
   "source": [
    "#Question no-1\n",
    "string='chetan'\n",
    "l=[1,2,'3.45','chetan']\n",
    "f=3.45\n",
    "t=(1,2,3.45,'chetan')"
   ]
  },
  {
   "cell_type": "code",
   "execution_count": 55,
   "id": "8a19b5a2-aa41-4a69-b2fc-fdd4ebc9a469",
   "metadata": {},
   "outputs": [
    {
     "data": {
      "text/plain": [
       "3.45"
      ]
     },
     "execution_count": 55,
     "metadata": {},
     "output_type": "execute_result"
    }
   ],
   "source": [
    "#Question no-2\n",
    "str\n",
    "str\n",
    "list\n",
    "float"
   ]
  },
  {
   "cell_type": "code",
   "execution_count": 56,
   "id": "23751ce0-cfa2-49d5-a9cd-4d19fef39a07",
   "metadata": {},
   "outputs": [],
   "source": [
    "#question no-3\n",
    "# / is used for division,it gives the quecient,eg. 10/2==2.0\n",
    "# % is used to take remainder after performing division operation performed eg. 10%2==0\n",
    "# // is used for floor division,it also gives quecient with it floor value like if quotient after dividing 10/2 is 2.0 it will give 2\n",
    "# ** is exponent operator eg:2**3=8\n"
   ]
  },
  {
   "cell_type": "code",
   "execution_count": 57,
   "id": "619560a3-4181-4911-ad0e-9e96958c7bdf",
   "metadata": {},
   "outputs": [
    {
     "name": "stdout",
     "output_type": "stream",
     "text": [
      "1   <class 'int'>\n",
      "2   <class 'int'>\n",
      "3   <class 'int'>\n",
      "3.45   <class 'float'>\n",
      "chetan   <class 'str'>\n",
      "kumar   <class 'str'>\n",
      "9.86   <class 'float'>\n",
      "True   <class 'bool'>\n",
      "(3+4j)   <class 'complex'>\n",
      "5   <class 'int'>\n"
     ]
    }
   ],
   "source": [
    "#Question no-4\n",
    "\n",
    "l=[1,2,3,3.45,'chetan','kumar',9.86,True,3+4j,5]\n",
    "for i in l:\n",
    "    print(i,\" \",type(i))\n",
    "   \n",
    "    \n",
    "    "
   ]
  },
  {
   "cell_type": "code",
   "execution_count": 28,
   "id": "f46d5fbb-cc82-484f-89ca-fb75f1290604",
   "metadata": {},
   "outputs": [
    {
     "data": {
      "text/plain": [
       "10"
      ]
     },
     "execution_count": 28,
     "metadata": {},
     "output_type": "execute_result"
    }
   ],
   "source": [
    "len(l)"
   ]
  },
  {
   "cell_type": "code",
   "execution_count": 59,
   "id": "75321a3b-98e3-4bf6-9efa-ba6fc4d658c4",
   "metadata": {},
   "outputs": [
    {
     "name": "stdout",
     "output_type": "stream",
     "text": [
      "A is divisable by B with  5\n"
     ]
    }
   ],
   "source": [
    "#question no-5\n",
    "\n",
    "A=10;\n",
    "B=2;\n",
    "count=0\n",
    "while A>=B:\n",
    "    A=A-B\n",
    "    count=count+1\n",
    "\n",
    "if A==0:\n",
    "    print(\"A is divisable by B with \",count)\n",
    "else:\n",
    "    print(\"A is not divisible by B\")"
   ]
  },
  {
   "cell_type": "code",
   "execution_count": 62,
   "id": "c6a4e129-c908-4b3d-87d2-00d4e000c164",
   "metadata": {},
   "outputs": [
    {
     "name": "stdout",
     "output_type": "stream",
     "text": [
      "1 is not divisible by 3\n",
      "2 is not divisible by 3\n",
      "3 is divisible by 3\n",
      "4 is not divisible by 3\n",
      "5 is not divisible by 3\n",
      "6 is divisible by 3\n",
      "7 is not divisible by 3\n",
      "8 is not divisible by 3\n",
      "9 is divisible by 3\n",
      "10 is not divisible by 3\n",
      "11 is not divisible by 3\n",
      "12 is divisible by 3\n",
      "13 is not divisible by 3\n",
      "14 is not divisible by 3\n",
      "15 is divisible by 3\n",
      "16 is not divisible by 3\n",
      "17 is not divisible by 3\n",
      "18 is divisible by 3\n",
      "19 is not divisible by 3\n",
      "20 is not divisible by 3\n",
      "21 is divisible by 3\n",
      "22 is not divisible by 3\n",
      "23 is not divisible by 3\n",
      "24 is divisible by 3\n",
      "25 is not divisible by 3\n"
     ]
    }
   ],
   "source": [
    "#Question no-6\n",
    "\n",
    "l1=range(1,26)\n",
    "for i in l1:\n",
    "    if i%3==0:\n",
    "        print(f\"{i} is divisible by 3\")\n",
    "    else:\n",
    "        print(f\"{i} is not divisible by 3\")\n",
    "    "
   ]
  },
  {
   "cell_type": "code",
   "execution_count": null,
   "id": "29278be9-00aa-4c15-ae64-9d0ebdc17b5e",
   "metadata": {},
   "outputs": [],
   "source": [
    "#Question no-7\n",
    "\n",
    "#Immutable object does not allow modification at specific index for eg. if s='chetan' and i want to modify chetan to 'ketan' with logic s[0]='k' it won't support.\n",
    "#whereas with mutable we can do modification of data at particular index like if l=['c','h','e','t','a','n'] and if we perform l[0]='k' it will change it's value at specific index "
   ]
  }
 ],
 "metadata": {
  "kernelspec": {
   "display_name": "Python 3 (ipykernel)",
   "language": "python",
   "name": "python3"
  },
  "language_info": {
   "codemirror_mode": {
    "name": "ipython",
    "version": 3
   },
   "file_extension": ".py",
   "mimetype": "text/x-python",
   "name": "python",
   "nbconvert_exporter": "python",
   "pygments_lexer": "ipython3",
   "version": "3.10.8"
  }
 },
 "nbformat": 4,
 "nbformat_minor": 5
}

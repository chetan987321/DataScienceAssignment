{
 "cells": [
  {
   "cell_type": "markdown",
   "id": "b3b12205-3acf-41c9-ace8-20626ccf9c55",
   "metadata": {},
   "source": [
    "#question no-1\n",
    "we can comment using # or \"\"\".There are 2 types of comment single line comment using # symbol and multiline comment using \"\"\""
   ]
  },
  {
   "cell_type": "markdown",
   "id": "3e6fef06-4ed1-4244-9b5e-74b73f3fce6d",
   "metadata": {},
   "source": [
    "#question no-2\n",
    "variable is name of container which is used to store value.eg a=10\n",
    "\n",
    "#question no-3\n",
    "one data type to another data type can be converted using typecasting.eg if i have a='10' which is str and i need to conver to int i can use int(a) which will convert it into int.\n",
    "\n"
   ]
  },
  {
   "cell_type": "markdown",
   "id": "b80499fc-f97a-4f60-b415-1e9772adf5bb",
   "metadata": {},
   "source": [
    "#question no-4\n",
    "we can create python script using .py extension and for executing from command line.we can use command python filename.py\n",
    "\n",
    "#question no\n"
   ]
  },
  {
   "cell_type": "code",
   "execution_count": 11,
   "id": "488dc06c-ce6d-4ef4-8141-5c36a0639b9a",
   "metadata": {},
   "outputs": [
    {
     "data": {
      "text/plain": [
       "[2, 3]"
      ]
     },
     "execution_count": 11,
     "metadata": {},
     "output_type": "execute_result"
    }
   ],
   "source": [
    "#question no-5\n",
    "\n",
    "my_list=[1,2,3,4,5]\n",
    "sub_List=my_list[1:3]\n",
    "sub_List\n"
   ]
  },
  {
   "cell_type": "markdown",
   "id": "fb678b53-f274-412a-83a6-a13922d18b5f",
   "metadata": {},
   "source": [
    "#question no-6\n",
    "\n",
    "complex number is combination of real and imaginary number.eg-3+4i where 3 is real and 4i is imaginary.but in python is is represent as 3+4j"
   ]
  },
  {
   "cell_type": "code",
   "execution_count": 12,
   "id": "352f2a1b-6b9f-4c5e-94de-9add5b7baeff",
   "metadata": {},
   "outputs": [
    {
     "data": {
      "text/plain": [
       "25"
      ]
     },
     "execution_count": 12,
     "metadata": {},
     "output_type": "execute_result"
    }
   ],
   "source": [
    "#question no-7\n",
    "age=25\n",
    "age"
   ]
  },
  {
   "cell_type": "code",
   "execution_count": 13,
   "id": "75878310-01eb-4ba3-86a2-f27e4bb25204",
   "metadata": {},
   "outputs": [
    {
     "data": {
      "text/plain": [
       "float"
      ]
     },
     "execution_count": 13,
     "metadata": {},
     "output_type": "execute_result"
    }
   ],
   "source": [
    "#question no-8\n",
    "price=9.99\n",
    "type is float"
   ]
  },
  {
   "cell_type": "code",
   "execution_count": 14,
   "id": "f3a6aa86-c1bc-4fee-bd91-ffc05c3e27a2",
   "metadata": {},
   "outputs": [
    {
     "name": "stdout",
     "output_type": "stream",
     "text": [
      "chetan\n"
     ]
    }
   ],
   "source": [
    "#question no-9\n",
    "name=\"chetan\"\n",
    "print(name)"
   ]
  },
  {
   "cell_type": "code",
   "execution_count": 15,
   "id": "2827a191-a722-4096-ab52-3f7189bc9800",
   "metadata": {},
   "outputs": [
    {
     "data": {
      "text/plain": [
       "'World'"
      ]
     },
     "execution_count": 15,
     "metadata": {},
     "output_type": "execute_result"
    }
   ],
   "source": [
    "#question no-10\n",
    "s=\"Hello,World!\"\n",
    "s[6:11]\n"
   ]
  },
  {
   "cell_type": "code",
   "execution_count": null,
   "id": "288b9f36-59b2-444e-a3f0-8ae440a31acb",
   "metadata": {},
   "outputs": [],
   "source": [
    "#question no-11\n",
    "is_student=True\n",
    "if is_student:\n",
    "    print(\"you are student\")\n",
    "else:\n",
    "    print(\"you are not student\")\n"
   ]
  }
 ],
 "metadata": {
  "kernelspec": {
   "display_name": "Python 3 (ipykernel)",
   "language": "python",
   "name": "python3"
  },
  "language_info": {
   "codemirror_mode": {
    "name": "ipython",
    "version": 3
   },
   "file_extension": ".py",
   "mimetype": "text/x-python",
   "name": "python",
   "nbconvert_exporter": "python",
   "pygments_lexer": "ipython3",
   "version": "3.10.8"
  }
 },
 "nbformat": 4,
 "nbformat_minor": 5
}
